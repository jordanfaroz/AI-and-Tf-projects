{
  "nbformat": 4,
  "nbformat_minor": 0,
  "metadata": {
    "colab": {
      "provenance": [],
      "authorship_tag": "ABX9TyMwHTa+o53kCq7zPLYFsptU",
      "include_colab_link": true
    },
    "kernelspec": {
      "name": "python3",
      "display_name": "Python 3"
    },
    "language_info": {
      "name": "python"
    }
  },
  "cells": [
    {
      "cell_type": "markdown",
      "metadata": {
        "id": "view-in-github",
        "colab_type": "text"
      },
      "source": [
        "<a href=\"https://colab.research.google.com/github/jordanfaroz/AI-and-Tf-projects/blob/main/tensorflow.ipynb\" target=\"_parent\"><img src=\"https://colab.research.google.com/assets/colab-badge.svg\" alt=\"Open In Colab\"/></a>"
      ]
    },
    {
      "cell_type": "markdown",
      "source": [
        "# Scalars (OD tensors)\n",
        "\n",
        "A tensor that contains only one number is called a scalar (or scalar tensor, or 0-dimensional tensor, or OD tensor). In Numpy, a float32 or float64 number is a scalar tensor (or scalar array).\n",
        "\n",
        " You can display the number of axes of a Numpy tensor via the dim attribute; a scalar tensor has 0 axes (ndim == 0). The number of axes of a tensor is also called its rank. Here's a Numpy scalar:"
      ],
      "metadata": {
        "id": "I8sDpd3JwHzH"
      }
    },
    {
      "cell_type": "code",
      "execution_count": null,
      "metadata": {
        "colab": {
          "base_uri": "https://localhost:8080/"
        },
        "id": "EStIZnuru6UQ",
        "outputId": "5a116e16-903b-4b61-c93d-821970a71eef"
      },
      "outputs": [
        {
          "output_type": "stream",
          "name": "stdout",
          "text": [
            "12\n"
          ]
        }
      ],
      "source": [
        "import numpy as np\n",
        "x = np.array(12)\n",
        "print(x)"
      ]
    },
    {
      "cell_type": "code",
      "source": [
        "x.ndim"
      ],
      "metadata": {
        "colab": {
          "base_uri": "https://localhost:8080/"
        },
        "id": "UJOeh9T9wtuk",
        "outputId": "3b04f86a-5dd7-48d0-f7d2-d1450aa6a130"
      },
      "execution_count": null,
      "outputs": [
        {
          "output_type": "execute_result",
          "data": {
            "text/plain": [
              "0"
            ]
          },
          "metadata": {},
          "execution_count": 2
        }
      ]
    },
    {
      "cell_type": "markdown",
      "source": [
        "# Vectors (1D tensors)\n",
        "An array of numbers is called a vector, or 1D tensor. A 1D tensor is said to have exactly one axis. Following is a Numpy vector:"
      ],
      "metadata": {
        "id": "QEawcM_fw_Gm"
      }
    },
    {
      "cell_type": "code",
      "source": [
        "x = np.array([12,4,5,6,43,3])\n",
        "x\n",
        "x.ndim"
      ],
      "metadata": {
        "id": "gP2gEC6Xw-SM"
      },
      "execution_count": null,
      "outputs": []
    },
    {
      "cell_type": "markdown",
      "source": [
        "This vector has five entries and so is called a 5-dimensional vector. Don't confuse a 5D vector with a 5D tensor! A 5D vector has only one axis and has five dimensions along its axis, whereas a 5D tensor has five axes (and may have any number of dimensions along each axis)."
      ],
      "metadata": {
        "id": "B3-fx7tSxcMO"
      }
    },
    {
      "cell_type": "markdown",
      "source": [
        "# Matrices (2D tensors)\n",
        "An array of vectors is a matrix, or 2D tensor. A matrix has two axes (often referred to rows and columns). You can visually interpret a matrix as a\n",
        "rectangular grid of numbers. This is a Numpy matrix."
      ],
      "metadata": {
        "id": "C6ZzorRzxgdz"
      }
    },
    {
      "cell_type": "code",
      "source": [
        "x= np.array([[5,78,2,34,0],\n",
        "             [4,556,54,3,45],\n",
        "             [56,76,3,55,4]])\n",
        "x.ndim"
      ],
      "metadata": {
        "id": "dzryKlx8xlzG"
      },
      "execution_count": null,
      "outputs": []
    },
    {
      "cell_type": "markdown",
      "source": [
        "The entries from the first axis are called the rows, and the entries from the second axis are called the columns. In the previous example, [5, 78\n",
        "2, 34, 0] is the first row of x, and [5, 6, 7] is the first column."
      ],
      "metadata": {
        "id": "HA0ygeZCyAiK"
      }
    },
    {
      "cell_type": "markdown",
      "source": [
        "# 3D tensors and higher-dimensional tensors\n",
        "lf you pack such matrices in a new array, you obtain a 3D tensor, which you can visually interpret as a cube of numbers. Following is a Numpy\n",
        "3D tensor:"
      ],
      "metadata": {
        "id": "IE09kBjMyV4o"
      }
    },
    {
      "cell_type": "code",
      "source": [],
      "metadata": {
        "id": "kliKgafKygEU"
      },
      "execution_count": null,
      "outputs": []
    },
    {
      "cell_type": "markdown",
      "source": [
        "# What is TensorFlow?\n",
        "Tensorflow is open source machine learning platform. It is owned and maintained by google and is one of the largest open source machine learning libraries in the world. We can use TensorFlow to build models that can do some of the following things.. Image Classification. Data Clustering . Regression . Reiforcement Learning . Natural Language Processing"
      ],
      "metadata": {
        "id": "UTCkgwzsynIf"
      }
    },
    {
      "cell_type": "markdown",
      "source": [
        "# Installing Tensorflow"
      ],
      "metadata": {
        "id": "wLnVJR_WyvCI"
      }
    },
    {
      "cell_type": "code",
      "source": [
        "!pip install tensorflow"
      ],
      "metadata": {
        "id": "j7CGDORDyz9C"
      },
      "execution_count": null,
      "outputs": []
    },
    {
      "cell_type": "code",
      "source": [
        "import tensorflow as tf\n",
        "tf.__version__"
      ],
      "metadata": {
        "colab": {
          "base_uri": "https://localhost:8080/",
          "height": 36
        },
        "id": "v_dDs76fy6tZ",
        "outputId": "705e20e1-9029-4bc3-8d97-0203bd7f9c80"
      },
      "execution_count": null,
      "outputs": [
        {
          "output_type": "execute_result",
          "data": {
            "text/plain": [
              "'2.12.0'"
            ],
            "application/vnd.google.colaboratory.intrinsic+json": {
              "type": "string"
            }
          },
          "metadata": {},
          "execution_count": 2
        }
      ]
    },
    {
      "cell_type": "markdown",
      "source": [
        "# Tensors\n",
        "\"A tensor is a generalization of vectors and matrices to potentially higher dimensions. Internally, TensorFlow represents tensors as n-dimensional arrays of base datatypes.\" (https://www.tensorflow.org/guide/tensor) Tensors are a fundemental apsect of TensorFlow. They are the main obiects that are passed around and manipluated throughout the program. Each tensor represents a partial defined computation that will eventually produce a value. TensorFlow programs work by building a graph of Tensor objects that details how tensors are related. Running different parts of the graph allow results to be generated. Each tensor has a data type and a shape.\n",
        "\n",
        "**Data Types Include**: float32, int32, string and others.\n",
        "\n",
        "**Shape**: Represents the dimension of data.\n",
        "\n",
        "Just like vectors and matrices tensors can have operations applied to them like addition, subtraction, dot product, cross product etc."
      ],
      "metadata": {
        "id": "-nJjLSrpzZqk"
      }
    },
    {
      "cell_type": "markdown",
      "source": [
        "# Creating Tensors\n",
        "\n",
        "Below is an example of how to create some different tensors.\n",
        "\n",
        "You simply define the value of the tensor and the datatype and you are good to go! It's worth mentioning that usually we deal with tensors of numeric data, it is quite rare to see string tensors.\n",
        "\n",
        "For a full list of datatypes please refer to the following guide. https://www.tensorflow.org/api docs/python/tf/dtypes/DType?version=stable"
      ],
      "metadata": {
        "id": "9h9GoDHQzokE"
      }
    },
    {
      "cell_type": "markdown",
      "source": [
        "Variable to define a variable,we use Variable()"
      ],
      "metadata": {
        "id": "tLmhjHF2zxBS"
      }
    },
    {
      "cell_type": "code",
      "source": [
        "string = tf.Variable(\"this is a string\", tf.string)\n",
        "number = tf. Variable (324, tf. int16)\n",
        "floating = tf. Variable (3.567, tf. float64)"
      ],
      "metadata": {
        "id": "YuYCS9bg1lQy"
      },
      "execution_count": null,
      "outputs": []
    },
    {
      "cell_type": "code",
      "source": [
        "print(string)"
      ],
      "metadata": {
        "colab": {
          "base_uri": "https://localhost:8080/"
        },
        "id": "__8cLjxt1orK",
        "outputId": "d23e2292-1d98-47d5-d96d-5d2dc7eab934"
      },
      "execution_count": null,
      "outputs": [
        {
          "output_type": "stream",
          "name": "stdout",
          "text": [
            "<tf.Variable 'Variable:0' shape=() dtype=string, numpy=b'this is a string'>\n"
          ]
        }
      ]
    },
    {
      "cell_type": "markdown",
      "source": [
        "# Rank/Degree of Tensors\n",
        "Another word for rank is degree, these terms simply mean the number of dimensions involved in the tensor. What we created above is a tensor of rank 0, also known as a scalar.\n",
        "\n",
        "Now we'll create some tensors of higher degrees/ranks."
      ],
      "metadata": {
        "id": "3bso-PpP1wIu"
      }
    },
    {
      "cell_type": "code",
      "source": [
        "rank_tensor=tf.Variable([\"test\"],tf.string)\n",
        "rank2_tensor=tf. Variable([[\"test\", \"ok\"],[\"test\", \"yes \"]], tf.string)"
      ],
      "metadata": {
        "id": "7uPSSdOo2CNP"
      },
      "execution_count": null,
      "outputs": []
    },
    {
      "cell_type": "markdown",
      "source": [
        "to determine rank of tensor"
      ],
      "metadata": {
        "id": "ZN8L3rxl2axn"
      }
    },
    {
      "cell_type": "code",
      "source": [
        "tf.rank(rank2_tensor)"
      ],
      "metadata": {
        "colab": {
          "base_uri": "https://localhost:8080/"
        },
        "id": "9Jz2xedY2ggd",
        "outputId": "549ed817-ff80-4f58-e965-9622fa71697f"
      },
      "execution_count": null,
      "outputs": [
        {
          "output_type": "execute_result",
          "data": {
            "text/plain": [
              "<tf.Tensor: shape=(), dtype=int32, numpy=2>"
            ]
          },
          "metadata": {},
          "execution_count": 6
        }
      ]
    },
    {
      "cell_type": "code",
      "source": [
        "rank2_tensor.shape"
      ],
      "metadata": {
        "colab": {
          "base_uri": "https://localhost:8080/"
        },
        "id": "w8wXvaQ_2o-V",
        "outputId": "b183faae-ec59-415d-cda7-d5a5927b6a7c"
      },
      "execution_count": null,
      "outputs": [
        {
          "output_type": "execute_result",
          "data": {
            "text/plain": [
              "TensorShape([2, 2])"
            ]
          },
          "metadata": {},
          "execution_count": 7
        }
      ]
    },
    {
      "cell_type": "markdown",
      "source": [
        "# Shape of Tensors\n",
        "The shape of a tensor is simply the number of elements that exist in each dimension. TensorFlow will try to determine the shape of a tensor but sometimes it may be unknown.\n",
        "\n",
        "To get the shape of a tensor we use the shape attribute."
      ],
      "metadata": {
        "id": "GtKvRbwu2wgw"
      }
    },
    {
      "cell_type": "code",
      "source": [
        "rank2_tensor.shape"
      ],
      "metadata": {
        "colab": {
          "base_uri": "https://localhost:8080/"
        },
        "id": "cTJubwA_227N",
        "outputId": "10eb0043-72ae-47b2-de59-bae19368b894"
      },
      "execution_count": null,
      "outputs": [
        {
          "output_type": "execute_result",
          "data": {
            "text/plain": [
              "TensorShape([2, 2])"
            ]
          },
          "metadata": {},
          "execution_count": 8
        }
      ]
    },
    {
      "cell_type": "markdown",
      "source": [
        "# Changing Shape\n",
        "The number of elements of a tensor is the product of the sizes of all its shapes. There are often many shapes that have the same number of elements, making it convent to be able to change the shape of a tensor."
      ],
      "metadata": {
        "id": "H_6K7vPU2_WE"
      }
    },
    {
      "cell_type": "code",
      "source": [
        "# tf .ones () creates a shape [1,2,3] tensor full of ones\n",
        "tensor1=tf.ones ([3,2,3])"
      ],
      "metadata": {
        "id": "enuZ-EnM3EgL"
      },
      "execution_count": null,
      "outputs": []
    },
    {
      "cell_type": "code",
      "source": [
        "tensor1"
      ],
      "metadata": {
        "id": "sQ3zrUiE3So9"
      },
      "execution_count": null,
      "outputs": []
    },
    {
      "cell_type": "code",
      "source": [
        "tensor2=tf.reshape(tensor1,[3,3,2])"
      ],
      "metadata": {
        "id": "5I-Ydgm73VF3"
      },
      "execution_count": null,
      "outputs": []
    },
    {
      "cell_type": "code",
      "source": [
        "tensor2"
      ],
      "metadata": {
        "id": "KXaOVBi33c_g"
      },
      "execution_count": null,
      "outputs": []
    },
    {
      "cell_type": "code",
      "source": [
        "tensor3=tf.reshape(tensor2,[6,-1])"
      ],
      "metadata": {
        "id": "bylaLmyG3e7f"
      },
      "execution_count": null,
      "outputs": []
    },
    {
      "cell_type": "code",
      "source": [
        "tensor3"
      ],
      "metadata": {
        "id": "8CD95UTB3l7M"
      },
      "execution_count": null,
      "outputs": []
    },
    {
      "cell_type": "markdown",
      "source": [
        "# Slicing Tensors\n",
        "\n",
        "Familiar with the term \"slice\" in python and its use on lists, tuples etc. Well the slice operator can be used on tensors to select specific axes or elements."
      ],
      "metadata": {
        "id": "MltVj6W53rSh"
      }
    },
    {
      "cell_type": "code",
      "source": [
        "# Creating a 2D tensor\n",
        "matrix = [ [1,2,3,4,5],\n",
        "[6,7,8,9,10],\n",
        "[11,12,13,14,15],\n",
        "[16, 17,18, 19, 20]]\n",
        "tensor = tf. Variable (matrix, dtype=tf.int32)\n",
        "print(tf.rank(tensor))\n",
        "print (tensor.shape)"
      ],
      "metadata": {
        "id": "BwqAn4Ug32RO"
      },
      "execution_count": null,
      "outputs": []
    },
    {
      "cell_type": "code",
      "source": [
        "x=tensor[:2]\n",
        "print(x)"
      ],
      "metadata": {
        "id": "4QJhLOjF6yhW"
      },
      "execution_count": null,
      "outputs": []
    },
    {
      "cell_type": "markdown",
      "source": [
        "Dimension, shape, size and dtype of a tensorflow variable"
      ],
      "metadata": {
        "id": "ec6Zp9Pw641-"
      }
    },
    {
      "cell_type": "code",
      "source": [
        "tensor1 = tf.Variable([3,4])"
      ],
      "metadata": {
        "id": "7Jzijc_q7BU8"
      },
      "execution_count": null,
      "outputs": []
    },
    {
      "cell_type": "code",
      "source": [
        "print('the shape of the variable:',tensor1.shape)"
      ],
      "metadata": {
        "id": "NgQuqWXE7Jy_"
      },
      "execution_count": null,
      "outputs": []
    },
    {
      "cell_type": "code",
      "source": [
        "print('the number of dimensions in the variable',tf.rank(tensor1).numpy())"
      ],
      "metadata": {
        "id": "sJJlJRvQ7XeE"
      },
      "execution_count": null,
      "outputs": []
    },
    {
      "cell_type": "code",
      "source": [
        "print('the size of the tensorflow in the variable',tf.size(tensor1).numpy())"
      ],
      "metadata": {
        "id": "YQUsiNz_7l2I"
      },
      "execution_count": null,
      "outputs": []
    },
    {
      "cell_type": "code",
      "source": [
        "print('the datatype of tensorflow variable is',tensor1.dtype)"
      ],
      "metadata": {
        "id": "NfxTrxdp7ym3"
      },
      "execution_count": null,
      "outputs": []
    },
    {
      "cell_type": "markdown",
      "source": [
        "tensor with zero values"
      ],
      "metadata": {
        "id": "Z7KatoNlSboB"
      }
    },
    {
      "cell_type": "code",
      "source": [
        "import tensorflow as tf\n",
        "t=tf.zeros([5,5,5,5])\n",
        "print(t)"
      ],
      "metadata": {
        "id": "9XszogzSSe6h"
      },
      "execution_count": null,
      "outputs": []
    },
    {
      "cell_type": "markdown",
      "source": [
        "# TensorFlow Core Learning Algorithms\n",
        "In this notebook we will walk through 4 fundemental machine learning algorithms. We will apply each of these algorithms to unique problems and datasets before highlighting the use cases of each.\n",
        "\n",
        "The algorithms we will focus on include:\n",
        "\n",
        "• Linear Regression\n",
        "\n",
        "• Classification\n",
        "\n",
        "• Clustering\n",
        "\n",
        "• Hidden Markov Models\n",
        "\n",
        "It is worth noting that there are many tools within TensorFlow that could be used to solve the problems we will see below."
      ],
      "metadata": {
        "id": "kRWVAdLKS-Yz"
      }
    },
    {
      "cell_type": "markdown",
      "source": [
        "## Linear Regression\n",
        "\n",
        "Linear regression is one of the most basic forms of machine learning and is used to predict numeric values.\n",
        "\n",
        "In this tutorial we will use a linear model to predict the survival rate of passangers from the titanic dataset.\n",
        "\n",
        "Linear regression follows a very simple concept. If data points are related linearly, we can generate a line of best fit for these points and use it to predict future values.\n",
        "\n",
        "Let's take an example of a data set with one feature and one label."
      ],
      "metadata": {
        "id": "t3vdN1DBTG0S"
      }
    },
    {
      "cell_type": "code",
      "source": [
        "import matplotlib.pyplot as plt\n",
        "\n",
        "x=[1,2,2.5,3,4]\n",
        "y=[1,4,7,9,15]\n",
        "plt.plot(x,y,'bo')\n",
        "plt.axis([0,6,0,20])\n"
      ],
      "metadata": {
        "colab": {
          "base_uri": "https://localhost:8080/",
          "height": 452
        },
        "id": "2U2OvFyrTdS3",
        "outputId": "7ed23917-b54a-4f36-c1b4-02a5695f0ccc"
      },
      "execution_count": null,
      "outputs": [
        {
          "output_type": "execute_result",
          "data": {
            "text/plain": [
              "(0.0, 6.0, 0.0, 20.0)"
            ]
          },
          "metadata": {},
          "execution_count": 26
        },
        {
          "output_type": "display_data",
          "data": {
            "text/plain": [
              "<Figure size 640x480 with 1 Axes>"
            ],
            "image/png": "[encoded data removed]"
          },
          "metadata": {}
        }
      ]
    },
    {
      "cell_type": "markdown",
      "source": [
        "We can see that this data has a linear corespondence. When the x value increases, so does the y.\n",
        " Because of this relation we can create a line of best fit for this dataset. In this example our line will only use one input variable, as we are working with two dimensions.\n",
        "\n",
        " In larger datasets with more features our line will have more features and inputs.\n",
        "\n",
        "\"Line of best fit refers to a line through a scatter plot of data points that best expresses the relationship between those points.\" (https://www.investopedia.com/terms/I/line-of-best-fit.asp)\n",
        "\n",
        "Here's a refresher on the equation of a line in 2D.\n",
        "\n",
        "y = mx + b"
      ],
      "metadata": {
        "id": "9lV_lkCoUKga"
      }
    },
    {
      "cell_type": "code",
      "source": [
        "import numpy as np\n",
        "plt.plot(x,y,'ro')\n",
        "plt.axis([0,6,0,20])\n",
        "print(np.polyfit(x,y,1))\n",
        "plt.plot(np.unique(x),np.poly1d(np.polyfit(x,y,1)))(np.unique(x))\n",
        "plt.show()\n"
      ],
      "metadata": {
        "id": "6XIZz20OUVXl"
      },
      "execution_count": null,
      "outputs": []
    },
    {
      "cell_type": "code",
      "source": [
        "pip install sklearn"
      ],
      "metadata": {
        "id": "RpS7rxJGV___"
      },
      "execution_count": null,
      "outputs": []
    },
    {
      "cell_type": "code",
      "source": [
        "import numpy as np\n",
        "import pandas as pd\n",
        "import matplotlib.pyplot as plt"
      ],
      "metadata": {
        "id": "F0DivRoGWION"
      },
      "execution_count": null,
      "outputs": []
    },
    {
      "cell_type": "markdown",
      "source": [
        "# Data\n",
        "So, if you haven't realized by now a major part of machine learning is data! In fact, it's so important that most of what we do in this tutorial will focus on exploring, cleaning and selecting appropriate data.\n",
        "\n",
        "The dataset we will be focusing on here is the titanic dataset. It has tons of information about each passanger on the ship. Our first step is always to understand the data and explore it. So, let's do that!\n",
        "\n",
        "Below we will load a dataset and learn how we can explore it using some built-in tools."
      ],
      "metadata": {
        "id": "HxeRRDegWc34"
      }
    }
  ]
}