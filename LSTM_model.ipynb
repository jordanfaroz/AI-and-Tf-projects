{
  "nbformat": 4,
  "nbformat_minor": 0,
  "metadata": {
    "colab": {
      "provenance": [],
      "authorship_tag": "ABX9TyOLVETLznjD2tj6d8Cba3+z",
      "include_colab_link": true
    },
    "kernelspec": {
      "name": "python3",
      "display_name": "Python 3"
    },
    "language_info": {
      "name": "python"
    }
  },
  "cells": [
    {
      "cell_type": "markdown",
      "metadata": {
        "id": "view-in-github",
        "colab_type": "text"
      },
      "source": [
        "<a href=\"https://colab.research.google.com/github/jordanfaroz/AI-and-Tf-projects/blob/main/LSTM_model.ipynb\" target=\"_parent\"><img src=\"https://colab.research.google.com/assets/colab-badge.svg\" alt=\"Open In Colab\"/></a>"
      ]
    },
    {
      "cell_type": "markdown",
      "source": [
        "# building LSTM model for text data and getting thr results"
      ],
      "metadata": {
        "id": "iaFm3dxvamVF"
      }
    },
    {
      "cell_type": "code",
      "execution_count": null,
      "metadata": {
        "id": "mxW-d1MGagxS"
      },
      "outputs": [],
      "source": [
        "from tensorflow.keras.models import Sequential\n",
        "from tensorflow.keras.layers import Embedding, SimpleRNN\n",
        "\n",
        "model = Sequential()\n",
        "\n",
        "model.add(Embedding(10000, 32))\n",
        "model.add(SimpleRNN(32))"
      ]
    },
    {
      "cell_type": "code",
      "source": [
        "print(Embedding(1000,32))"
      ],
      "metadata": {
        "id": "imkbnUBZdiaI"
      },
      "execution_count": null,
      "outputs": []
    },
    {
      "cell_type": "code",
      "source": [
        "model.summary()"
      ],
      "metadata": {
        "id": "ytDPJe5_cOEk"
      },
      "execution_count": null,
      "outputs": []
    },
    {
      "cell_type": "code",
      "source": [
        "model = Sequential()\n",
        "model.add(Embedding(10000, 32))\n",
        "model.add(SimpleRNN(32, return_sequences=True))\n",
        "model.add(SimpleRNN(32, return_sequences=True))\n",
        "model.add(SimpleRNN(32, return_sequences=True))\n",
        "model.add(SimpleRNN(32))"
      ],
      "metadata": {
        "id": "zD51w6BqcT65"
      },
      "execution_count": null,
      "outputs": []
    },
    {
      "cell_type": "code",
      "source": [
        "model.summary()"
      ],
      "metadata": {
        "id": "iqSO4KKGdGny"
      },
      "execution_count": null,
      "outputs": []
    },
    {
      "cell_type": "code",
      "source": [
        "from keras.datasets import imdb\n",
        "from keras.preprocessing import sequence\n",
        "from keras.utils import pad_sequences\n",
        "\n",
        "max_features = 10000\n",
        "maxlen = 500\n",
        "batch_size = 32\n",
        "\n",
        "print('loading data....')\n",
        "(input_train, y_train),(input_test, y_test) = imdb.load_data(num_words=max_features)\n"
      ],
      "metadata": {
        "id": "GWZZ5WpbdP3W"
      },
      "execution_count": null,
      "outputs": []
    },
    {
      "cell_type": "code",
      "source": [
        "print(input_train)"
      ],
      "metadata": {
        "id": "DiHABfB_ow00"
      },
      "execution_count": null,
      "outputs": []
    },
    {
      "cell_type": "code",
      "source": [
        "\n",
        "print(len(input_train), 'train_sequences')\n",
        "print(len(input_test), 'test_sequences')\n",
        "\n",
        "print('pad sequences (samples x time)')\n",
        "input_train = pad_sequences(input_train, maxlen=maxlen)\n",
        "input_test = pad_sequences(input_test, maxlen=maxlen)\n",
        "print('input_train shape:', input_train.shape)\n",
        "print('input_test shape:', input_test.shape)\n",
        "\n",
        "\n"
      ],
      "metadata": {
        "id": "Fnu7uMlxovxt"
      },
      "execution_count": null,
      "outputs": []
    },
    {
      "cell_type": "code",
      "source": [
        "from tensorflow.keras.layers import Dense\n",
        "\n",
        "model = Sequential()\n",
        "model.add(Embedding(max_features, 32))\n",
        "model.add(SimpleRNN(32))\n",
        "model.add(Dense(1, activation = 'sigmoid'))\n",
        "\n",
        "model.compile(optimizer= 'rmsprop', loss='binary_crossentropy', metrics = ['acc'])\n",
        "\n",
        "history = model.fit(input_train, y_train,\n",
        "                    epochs=1,\n",
        "                    batch_size = 128,\n",
        "                    validation_split=0.2)\n"
      ],
      "metadata": {
        "id": "_Zg4SKdHgWGH"
      },
      "execution_count": null,
      "outputs": []
    },
    {
      "cell_type": "code",
      "source": [
        "import matplotlib.pyplot as plt\n",
        "\n",
        "acc = history.history['acc']\n",
        "val_acc = history.history['val_acc']\n",
        "loss = history.history['loss']\n",
        "val_loss= history.history['val_loss']\n",
        "\n",
        "print('Training set accuracy is ', acc)\n",
        "print('Validation set accuracy is',val_acc)\n",
        "print('Training set loss is', loss)\n",
        "print('validation set loss is', val_loss)"
      ],
      "metadata": {
        "id": "0vshTVwvhmJN"
      },
      "execution_count": null,
      "outputs": []
    },
    {
      "cell_type": "markdown",
      "source": [
        "same example with LSTM - Long short term memory layer"
      ],
      "metadata": {
        "id": "MlgfCNf8i2jO"
      }
    },
    {
      "cell_type": "code",
      "source": [
        "from tensorflow.keras.layers import LSTM\n",
        "\n",
        "model = Sequential()\n",
        "model.add(Embedding(max_features, 32))\n",
        "model.add(LSTM(32))\n",
        "model.add(Dense(1, activation='sigmoid'))\n",
        "\n",
        "model.compile(optimizer='rmsprop',loss = 'binary_crossentropy',metrics= ['acc'])\n",
        "\n",
        "history = model.fit(input_train , y_train,\n",
        "                    epochs = 1,\n",
        "                    batch_size = 128,\n",
        "                    validation_split = 0.2)\n"
      ],
      "metadata": {
        "id": "BcviQR7Vieb2"
      },
      "execution_count": null,
      "outputs": []
    }
  ]
}