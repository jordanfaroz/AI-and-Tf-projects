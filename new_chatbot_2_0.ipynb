{
  "nbformat": 4,
  "nbformat_minor": 0,
  "metadata": {
    "colab": {
      "provenance": [],
      "authorship_tag": "ABX9TyO2S9M080KyFATp6mvDvVsj",
      "include_colab_link": true
    },
    "kernelspec": {
      "name": "python3",
      "display_name": "Python 3"
    },
    "language_info": {
      "name": "python"
    }
  },
  "cells": [
    {
      "cell_type": "markdown",
      "metadata": {
        "id": "view-in-github",
        "colab_type": "text"
      },
      "source": [
        "<a href=\"https://colab.research.google.com/github/jordanfaroz/AI-and-Tf-projects/blob/main/new_chatbot_2_0.ipynb\" target=\"_parent\"><img src=\"https://colab.research.google.com/assets/colab-badge.svg\" alt=\"Open In Colab\"/></a>"
      ]
    },
    {
      "cell_type": "markdown",
      "source": [
        "# Chatbot using tensorflow, NLP and python"
      ],
      "metadata": {
        "id": "YY_-_oJMfhz5"
      }
    },
    {
      "cell_type": "markdown",
      "source": [
        "## Step 1: Set up the environment\n",
        "-installing tensorflow and importing required libraries"
      ],
      "metadata": {
        "id": "sP3pIllhflmu"
      }
    },
    {
      "cell_type": "code",
      "execution_count": null,
      "metadata": {
        "id": "TXOs4lhjGVFg"
      },
      "outputs": [],
      "source": [
        "!pip install tensorflow"
      ]
    },
    {
      "cell_type": "code",
      "source": [
        "import tensorflow as tf\n",
        "import numpy as np\n",
        "import random\n",
        "import json"
      ],
      "metadata": {
        "id": "OHHV1n6uGwOJ"
      },
      "execution_count": null,
      "outputs": []
    },
    {
      "cell_type": "markdown",
      "source": [
        "## Step 2: Prepare the data\n",
        "\n",
        "Creating a JSON file with your training data. It should have a list of patterns and responses."
      ],
      "metadata": {
        "id": "f3QmArXjgBCW"
      }
    },
    {
      "cell_type": "code",
      "source": [
        "{\n",
        "  \"intents\": [\n",
        "    {\n",
        "      \"tag\": \"greeting\",\n",
        "      \"patterns\": [\"Hi\", \"Hello\", \"Hey\"],\n",
        "      \"responses\": [\"Hello!\", \"Hi there!\", \"Hey! How can I help you?\"]\n",
        "    },\n",
        "    {\n",
        "      \"tag\": \"goodbye\",\n",
        "      \"patterns\": [\"Bye\", \"See you later\", \"Goodbye\"],\n",
        "      \"responses\": [\"Goodbye!\", \"See you later!\", \"Take care!\"]\n",
        "    }\n",
        "  ]\n",
        "}"
      ],
      "metadata": {
        "id": "gXe9BrZTG1mt"
      },
      "execution_count": null,
      "outputs": []
    },
    {
      "cell_type": "code",
      "source": [
        "from google.colab import files\n",
        "\n",
        "uploaded = files.upload()"
      ],
      "metadata": {
        "id": "MP2rtDjgILPR"
      },
      "execution_count": null,
      "outputs": []
    },
    {
      "cell_type": "code",
      "source": [
        "with open('data.json', 'r') as file:\n",
        "    contents = file.read()\n",
        "    print(contents)"
      ],
      "metadata": {
        "id": "xkQmmZ7pKoAA"
      },
      "execution_count": null,
      "outputs": []
    },
    {
      "cell_type": "markdown",
      "source": [
        "## Loading and preprocessing the data in Python:"
      ],
      "metadata": {
        "id": "uG62egV4gJSh"
      }
    },
    {
      "cell_type": "code",
      "source": [
        "with open('data.json', 'r') as file:\n",
        "    data = json.load(file)\n",
        "\n",
        "# Extract patterns and responses from the loaded data\n",
        "patterns = []\n",
        "responses = []\n",
        "tags = []\n",
        "\n",
        "for intent in data['intents']:\n",
        "    for pattern in intent['patterns']:\n",
        "        patterns.append(pattern)\n",
        "        responses.append(intent['responses'][random.randint(0, len(intent['responses']) - 1)])\n",
        "        tags.append(intent['tag'])"
      ],
      "metadata": {
        "id": "e2o0cDt_G5_9"
      },
      "execution_count": null,
      "outputs": []
    },
    {
      "cell_type": "markdown",
      "source": [
        "## Step 3: Building and training the model\n",
        "\n",
        "Preprocess the text data:"
      ],
      "metadata": {
        "id": "bSTpuBpXgOqR"
      }
    },
    {
      "cell_type": "code",
      "source": [
        "from sklearn.preprocessing import LabelEncoder\n",
        "\n",
        "# Encode the tags to numerical values\n",
        "label_encoder = LabelEncoder()\n",
        "encoded_tags = label_encoder.fit_transform(tags)\n",
        "\n",
        "# Convert the encoded tags to one-hot encoded labels\n",
        "labels = tf.keras.utils.to_categorical(encoded_tags)"
      ],
      "metadata": {
        "id": "irE_vzFaLlb7"
      },
      "execution_count": null,
      "outputs": []
    },
    {
      "cell_type": "markdown",
      "source": [
        "## Define the model architecture:"
      ],
      "metadata": {
        "id": "V_I5ZSBJgUSM"
      }
    },
    {
      "cell_type": "code",
      "source": [
        "model = tf.keras.models.Sequential([\n",
        "    tf.keras.layers.Embedding(10, 16, input_length=20),\n",
        "    tf.keras.layers.Bidirectional(tf.keras.layers.GRU(16)),\n",
        "    tf.keras.layers.Dense(16, activation='relu'),\n",
        "    tf.keras.layers.Dense(len(labels[0]), activation='softmax')\n",
        "])\n",
        "\n",
        "model.compile(loss='categorical_crossentropy', optimizer='adam', metrics=['accuracy'])"
      ],
      "metadata": {
        "id": "eqiBqp--LzKc"
      },
      "execution_count": null,
      "outputs": []
    },
    {
      "cell_type": "markdown",
      "source": [
        "## Step 4: Test the chatbot\n",
        "\n",
        "Preprocess the user's input:"
      ],
      "metadata": {
        "id": "IW7USzBlgokX"
      }
    },
    {
      "cell_type": "code",
      "source": [
        "def preprocess_input(input_text):\n",
        "    input_seq = tf.keras.preprocessing.text.Tokenizer.texts_to_sequences(input_text)\n",
        "    padded_input_seq = tf.keras.preprocessing.sequence.pad_sequences(input_seq, maxlen=20, padding='post')\n",
        "    return padded_input_seq"
      ],
      "metadata": {
        "id": "z4a9c1R8MAIj"
      },
      "execution_count": null,
      "outputs": []
    },
    {
      "cell_type": "markdown",
      "source": [
        "## Generate a response from the chatbot"
      ],
      "metadata": {
        "id": "Y1x7W-osgs2g"
      }
    },
    {
      "cell_type": "code",
      "source": [
        "def get_response(input_text):\n",
        "    input_seq = preprocess_input(input_text)\n",
        "    predictions = model.predict(input_seq)\n",
        "    tag = tags[np.argmax(predictions)]\n",
        "    responses = []\n",
        "    for intent in data['intents']:\n",
        "        if intent['tag'] == tag:\n",
        "            responses = intent['responses']\n",
        "    return random.choice(responses)"
      ],
      "metadata": {
        "id": "uc_sLfhjMD5m"
      },
      "execution_count": null,
      "outputs": []
    },
    {
      "cell_type": "markdown",
      "source": [
        "## Test the chatbot:"
      ],
      "metadata": {
        "id": "aeJLzeUvgu-e"
      }
    },
    {
      "cell_type": "code",
      "source": [
        "user_input = input(\"You: \")\n",
        "response = get_response(user_input)\n",
        "print(\"Bot:\", response)"
      ],
      "metadata": {
        "id": "bejci27PMHM8"
      },
      "execution_count": null,
      "outputs": []
    }
  ]
}